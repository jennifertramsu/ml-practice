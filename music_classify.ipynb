{
 "cells": [
  {
   "attachments": {},
   "cell_type": "markdown",
   "metadata": {},
   "source": [
    "# Music Classification\n",
    "\n",
    "December 2022, Jennifer Tram Su\n",
    "\n",
    "Project Statement\n",
    "-----------------\n",
    "What makes a music genre unique?\n",
    "Originally, I wanted to explore different music periods in history (Baroque, Renaissance, Classical, etc.) but I can't seem to find any existing datasets for this and I can't be bothered to make my own.\n",
    "\n",
    "This project will explore how audio is processed and how to represent music in a way that is understood by computers to make predictions."
   ]
  },
  {
   "cell_type": "code",
   "execution_count": 74,
   "metadata": {},
   "outputs": [],
   "source": [
    "# Feature Extraction\n",
    "from helper import preprocess\n",
    "\n",
    "# Data Handling\n",
    "import glob\n",
    "import pandas as pd\n",
    "import os\n",
    "\n",
    "# Models\n",
    "from sklearn import svm\n",
    "from sklearn.model_selection import train_test_split"
   ]
  },
  {
   "cell_type": "code",
   "execution_count": 8,
   "metadata": {},
   "outputs": [],
   "source": [
    "dataset_path = \"Dataset/genres_original/\"\n",
    "genres = {\n",
    "    \"blues\": 0, \n",
    "    \"classical\": 1,\n",
    "    \"country\": 2,\n",
    "    \"disco\": 3,\n",
    "    \"hiphop\": 4,\n",
    "    \"jazz\": 5,\n",
    "    \"metal\": 6, \n",
    "    \"pop\": 7,\n",
    "    \"reggae\": 8,\n",
    "    \"rock\": 9\n",
    "}"
   ]
  },
  {
   "cell_type": "code",
   "execution_count": 64,
   "metadata": {},
   "outputs": [],
   "source": [
    "# Creating labelled datasets\n",
    "\n",
    "genres_list = glob.glob(\"Dataset/genres_original/*\")\n",
    "\n",
    "rows = []\n",
    "\n",
    "for path in genres_list:\n",
    "    # Extract basename\n",
    "    base = os.path.basename(path)\n",
    "    audio_files = glob.glob(path + \"/*\")\n",
    "\n",
    "    for audio in audio_files:\n",
    "        d = {}\n",
    "        d = {\n",
    "            \"audio path\": audio,\n",
    "            \"label\": genres[base]\n",
    "            }\n",
    "        rows.append(d)\n",
    "\n",
    "files = pd.DataFrame(rows)\n",
    "files.to_excel(\"Dataset/labelled_dataset.xlsx\", index=False)"
   ]
  },
  {
   "cell_type": "code",
   "execution_count": 68,
   "metadata": {},
   "outputs": [],
   "source": [
    "# Creating train and test splits\n",
    "\n",
    "X = files['audio path']\n",
    "y = files['label']\n",
    "\n",
    "X_train, X_test, y_train, y_test = train_test_split(X, y)"
   ]
  }
 ],
 "metadata": {
  "kernelspec": {
   "display_name": "mais",
   "language": "python",
   "name": "python3"
  },
  "language_info": {
   "codemirror_mode": {
    "name": "ipython",
    "version": 3
   },
   "file_extension": ".py",
   "mimetype": "text/x-python",
   "name": "python",
   "nbconvert_exporter": "python",
   "pygments_lexer": "ipython3",
   "version": "3.10.6"
  },
  "orig_nbformat": 4,
  "vscode": {
   "interpreter": {
    "hash": "0111e3fba090b038a7123b9e23f8d01ae43d39ccee8f8d8074f3f1c124641d1f"
   }
  }
 },
 "nbformat": 4,
 "nbformat_minor": 2
}
