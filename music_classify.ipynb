{
 "cells": [
  {
   "attachments": {},
   "cell_type": "markdown",
   "metadata": {},
   "source": [
    "# Music Classification\n",
    "\n",
    "December 2022, Jennifer Tram Su\n",
    "\n",
    "Project Statement\n",
    "-----------------\n",
    "What makes a music genre unique?\n",
    "Originally, I wanted to explore different music periods in history (Baroque, Renaissance, Classical, etc.) but I can't seem to find any existing datasets for this and I can't be bothered to make my own.\n",
    "\n",
    "This project will explore how audio is processed and how to represent music in a way that is understood by computers to make predictions."
   ]
  },
  {
   "cell_type": "code",
   "execution_count": 1,
   "metadata": {},
   "outputs": [],
   "source": [
    "# Feature Extraction\n",
    "import librosa\n",
    "from helper import process_train\n",
    "\n",
    "# Data Handling\n",
    "import glob\n",
    "import pandas as pd\n",
    "import os\n",
    "\n",
    "# Models\n",
    "from sklearn import svm\n",
    "from sklearn.model_selection import train_test_split"
   ]
  },
  {
   "cell_type": "code",
   "execution_count": 2,
   "metadata": {},
   "outputs": [],
   "source": [
    "dataset_path = \"Dataset/genres_original/\"\n",
    "genres = {\n",
    "    \"blues\": 0, \n",
    "    \"classical\": 1,\n",
    "    \"country\": 2,\n",
    "    \"disco\": 3,\n",
    "    \"hiphop\": 4,\n",
    "    \"jazz\": 5,\n",
    "    \"metal\": 6, \n",
    "    \"pop\": 7,\n",
    "    \"reggae\": 8,\n",
    "    \"rock\": 9\n",
    "}"
   ]
  },
  {
   "cell_type": "code",
   "execution_count": 3,
   "metadata": {},
   "outputs": [],
   "source": [
    "# Creating labelled datasets\n",
    "\n",
    "genres_list = glob.glob(\"Dataset/genres_original/*\")\n",
    "\n",
    "rows = []\n",
    "\n",
    "for path in genres_list:\n",
    "    # Extract basename\n",
    "    base = os.path.basename(path)\n",
    "    audio_files = glob.glob(path + \"/*\")\n",
    "\n",
    "    for audio in audio_files:\n",
    "        d = {}\n",
    "        d = {\n",
    "            \"audio path\": audio,\n",
    "            \"label\": genres[base]\n",
    "            }\n",
    "        rows.append(d)\n",
    "\n",
    "files = pd.DataFrame(rows)\n",
    "files.to_excel(\"Dataset/labelled_dataset.xlsx\", index=False)"
   ]
  },
  {
   "cell_type": "code",
   "execution_count": 4,
   "metadata": {},
   "outputs": [],
   "source": [
    "# Creating train and test splits\n",
    "\n",
    "files = pd.read_excel(\"Dataset/labelled_dataset.xlsx\")\n",
    "\n",
    "X = files['audio path']\n",
    "y = files['label']\n",
    "\n",
    "X_train, X_test, y_train, y_test = train_test_split(X, y)"
   ]
  },
  {
   "cell_type": "code",
   "execution_count": 7,
   "metadata": {},
   "outputs": [
    {
     "name": "stderr",
     "output_type": "stream",
     "text": [
      "/home/jennifertramsu/programs/miniconda3/envs/mais/lib/python3.10/site-packages/librosa/util/decorators.py:88: UserWarning: PySoundFile failed. Trying audioread instead.\n",
      "  return f(*args, **kwargs)\n"
     ]
    },
    {
     "name": "stdout",
     "output_type": "stream",
     "text": [
      "Dataset/genres_original/jazz/jazz.00054.wav is corrupted!\n"
     ]
    }
   ],
   "source": [
    "# Loading audio files with librosa\n",
    "\n",
    "X_train, y_train = process_train(X_train, y_train)"
   ]
  },
  {
   "attachments": {},
   "cell_type": "markdown",
   "metadata": {},
   "source": [
    "Time Domain Features\n",
    "  1) Zero Crossing Rate\n",
    "  2) Amplitude Envelope\n",
    "  3) RMS Energy\n",
    "  \n",
    "Frequency Domain Features\n",
    "  1) Band Energy Ratio\n",
    "  2) Spectral Centroid\n",
    "  3) Spectral Flux"
   ]
  },
  {
   "cell_type": "code",
   "execution_count": null,
   "metadata": {},
   "outputs": [],
   "source": [
    "# Extracting Features\n",
    "\n"
   ]
  }
 ],
 "metadata": {
  "kernelspec": {
   "display_name": "mais",
   "language": "python",
   "name": "python3"
  },
  "language_info": {
   "codemirror_mode": {
    "name": "ipython",
    "version": 3
   },
   "file_extension": ".py",
   "mimetype": "text/x-python",
   "name": "python",
   "nbconvert_exporter": "python",
   "pygments_lexer": "ipython3",
   "version": "3.10.6"
  },
  "orig_nbformat": 4,
  "vscode": {
   "interpreter": {
    "hash": "0111e3fba090b038a7123b9e23f8d01ae43d39ccee8f8d8074f3f1c124641d1f"
   }
  }
 },
 "nbformat": 4,
 "nbformat_minor": 2
}
